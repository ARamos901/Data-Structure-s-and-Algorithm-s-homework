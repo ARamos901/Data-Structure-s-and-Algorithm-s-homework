{
 "cells": [
  {
   "cell_type": "markdown",
   "id": "c1f375b7-e04d-452f-b179-41a467a0ceb9",
   "metadata": {},
   "source": [
    "I created a program that determines whether an input string is a palindrome or not, ignoring whitespace, digits, punctuation, and the case of letters. \n",
    "\n",
    "First, I imported the Stack implementation from the book.Then used part of the \"ReverseWord.py\" code to help create my  that checks weather a user input is a palindrome or not."
   ]
  },
  {
   "cell_type": "code",
   "execution_count": 4,
   "id": "a3fbc8a8-fcd3-4bda-a423-721590777ee2",
   "metadata": {},
   "outputs": [],
   "source": [
    "class Stack(object):\n",
    "    def __init__(self, max):\n",
    "        self.__stackList = [None] * max \n",
    "        self.__top = -1\n",
    "\n",
    "    def push(self, item):\n",
    "        self.__top += 1\n",
    "        self.__stackList[self.__top] = item \n",
    "        \n",
    "    def pop(self):\n",
    "        top = self.__stackList[self.__top]\n",
    "        self.__stackList[self.__top] = None \n",
    "        self.__top -= 1 \n",
    "        return top\n",
    "\n",
    "    def peek(self):\n",
    "        if not self.isEmpty():\n",
    "            return self.__stackList[self.__top] \n",
    "\n",
    "    def isEmpty(self): \n",
    "        return self.__top < 0\n",
    "\n",
    "    def isFull(self):\n",
    "        return self.__top >= len(self.__stackList) - 1\n",
    "   \n",
    "    def __len__(self): \n",
    "        return self.__top + 1\n",
    "    \n",
    "    def __str__(self): \n",
    "        ans = \"[\"\n",
    "        for i in range(self.__top + 1): \n",
    "            if len(ans) > 1:\n",
    "                ans += \", \"\n",
    "            ans += str(self.__stackList[i])\n",
    "        ans += \"]\" \n",
    "        return ans"
   ]
  },
  {
   "cell_type": "code",
   "execution_count": 5,
   "id": "1532c296-31aa-4fb7-bc39-e7e4f51533d8",
   "metadata": {},
   "outputs": [
    {
     "name": "stdout",
     "output_type": "stream",
     "text": [
      "Phrase to check for palindrome: yello\n",
      "The phrase yello is not a palindrome.\n"
     ]
    }
   ],
   "source": [
    "def is_palindrome(input_str):\n",
    "    stack = Stack(len(input_str))  \n",
    "\n",
    "    for char in input_str:\n",
    "        if char.isalnum():\n",
    "            stack.push(char.lower())\n",
    "        \n",
    "    reverse = ''\n",
    "    while not stack.isEmpty(): \n",
    "        reverse += stack.pop()\n",
    "    \n",
    "    return input_str.lower().replace(\" \", \"\").replace(\",\", \"\").replace(\".\", \"\") == reverse\n",
    "\n",
    "phrase = input(\"Phrase to check for palindrome: \")\n",
    "if is_palindrome(phrase):\n",
    "    print(f'The phrase {phrase} is a palindrome.')\n",
    "else:\n",
    "    print(f'The phrase {phrase} is not a palindrome.')\n"
   ]
  },
  {
   "cell_type": "code",
   "execution_count": null,
   "id": "36e93069-7061-43c7-9bf7-3000f7e85ac8",
   "metadata": {},
   "outputs": [],
   "source": []
  }
 ],
 "metadata": {
  "kernelspec": {
   "display_name": "Python 3 (ipykernel)",
   "language": "python",
   "name": "python3"
  },
  "language_info": {
   "codemirror_mode": {
    "name": "ipython",
    "version": 3
   },
   "file_extension": ".py",
   "mimetype": "text/x-python",
   "name": "python",
   "nbconvert_exporter": "python",
   "pygments_lexer": "ipython3",
   "version": "3.9.13"
  }
 },
 "nbformat": 4,
 "nbformat_minor": 5
}
