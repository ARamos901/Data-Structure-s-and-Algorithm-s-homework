{
 "cells": [
  {
   "cell_type": "markdown",
   "id": "eab96d03-f848-4bd6-a4e0-fe4ff32d12cb",
   "metadata": {},
   "source": [
    "I implemented a recursive approach to raising a number to a power as described in the \"Raising a Number to a Power\" section near the end of chapter 6. \n",
    "\n",
    "I tested my function on several combinations including positive and negative integers and the special cases where the exponent is 0 and 1"
   ]
  },
  {
   "cell_type": "code",
   "execution_count": 21,
   "id": "b1db2def-562d-403b-9e45-b6fa3a147f43",
   "metadata": {},
   "outputs": [
    {
     "name": "stdout",
     "output_type": "stream",
     "text": [
      "36\n",
      "1\n",
      "10\n",
      "-2187\n",
      "0.015625\n"
     ]
    }
   ],
   "source": [
    "def power(x,y):\n",
    "    if y==0:   \n",
    "        return 1\n",
    "    elif y>0:\n",
    "        return x*power(x,y-1) \n",
    "    else:\n",
    "        return 1/power(x,-y)\n",
    "print(power(6,2))\n",
    "print(power(9,0))\n",
    "print(power(10,1))\n",
    "print(power(-3,7))\n",
    "print(power(4,-3))"
   ]
  }
 ],
 "metadata": {
  "kernelspec": {
   "display_name": "Python 3 (ipykernel)",
   "language": "python",
   "name": "python3"
  },
  "language_info": {
   "codemirror_mode": {
    "name": "ipython",
    "version": 3
   },
   "file_extension": ".py",
   "mimetype": "text/x-python",
   "name": "python",
   "nbconvert_exporter": "python",
   "pygments_lexer": "ipython3",
   "version": "3.9.13"
  }
 },
 "nbformat": 4,
 "nbformat_minor": 5
}
